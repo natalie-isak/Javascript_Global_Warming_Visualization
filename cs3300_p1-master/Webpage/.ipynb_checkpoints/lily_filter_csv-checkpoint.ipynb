{
 "cells": [
  {
   "cell_type": "markdown",
   "metadata": {},
   "source": [
    "_To note: the year 2013 only goes up to September_  \n",
    "\n",
    "    - US\n",
    "    - China\n",
    "    - Australia\n",
    "    - Brazil\n",
    "    - UK\n",
    "    - South Africa  \n",
    "    - Costa Rica\n",
    "    - Egypt\n",
    "    - Algeria\n",
    "    - Iceland\n",
    "    - Ukraine\n",
    "    - Argentina\n",
    "    - Namibia\n",
    "    - Finland\n",
    "    - Germany\n",
    "    - Japan\n",
    "    \n",
    "(I tried to cover a wide geographic range)\n",
    "    \n",
    "- Find change in temp from past to present\n",
    "    - Past: take average of the decade 1861-71 (earliest point when all these sixteen countries don't have gaps in data)\n",
    "    - take average of the decade 2003-2013\n",
    "- Insert a new row into the csv for average yearly temp for a country"
   ]
  },
  {
   "cell_type": "code",
   "execution_count": 20,
   "metadata": {},
   "outputs": [
    {
     "data": {
      "text/html": [
       "<div>\n",
       "<style>\n",
       "    .dataframe thead tr:only-child th {\n",
       "        text-align: right;\n",
       "    }\n",
       "\n",
       "    .dataframe thead th {\n",
       "        text-align: left;\n",
       "    }\n",
       "\n",
       "    .dataframe tbody tr th {\n",
       "        vertical-align: top;\n",
       "    }\n",
       "</style>\n",
       "<table border=\"1\" class=\"dataframe\">\n",
       "  <thead>\n",
       "    <tr style=\"text-align: right;\">\n",
       "      <th></th>\n",
       "      <th>dt</th>\n",
       "      <th>AverageTemperature</th>\n",
       "      <th>AverageTemperatureUncertainty</th>\n",
       "      <th>Country</th>\n",
       "    </tr>\n",
       "  </thead>\n",
       "  <tbody>\n",
       "    <tr>\n",
       "      <th>0</th>\n",
       "      <td>1787-01-01</td>\n",
       "      <td>13.322</td>\n",
       "      <td>2.975</td>\n",
       "      <td>Algeria</td>\n",
       "    </tr>\n",
       "    <tr>\n",
       "      <th>1</th>\n",
       "      <td>1787-02-01</td>\n",
       "      <td>14.839</td>\n",
       "      <td>2.307</td>\n",
       "      <td>Algeria</td>\n",
       "    </tr>\n",
       "    <tr>\n",
       "      <th>2</th>\n",
       "      <td>1787-03-01</td>\n",
       "      <td>18.841</td>\n",
       "      <td>2.922</td>\n",
       "      <td>Algeria</td>\n",
       "    </tr>\n",
       "    <tr>\n",
       "      <th>3</th>\n",
       "      <td>1787-04-01</td>\n",
       "      <td>22.061</td>\n",
       "      <td>2.283</td>\n",
       "      <td>Algeria</td>\n",
       "    </tr>\n",
       "    <tr>\n",
       "      <th>4</th>\n",
       "      <td>1787-05-01</td>\n",
       "      <td>27.104</td>\n",
       "      <td>3.774</td>\n",
       "      <td>Algeria</td>\n",
       "    </tr>\n",
       "  </tbody>\n",
       "</table>\n",
       "</div>"
      ],
      "text/plain": [
       "           dt  AverageTemperature  AverageTemperatureUncertainty  Country\n",
       "0  1787-01-01              13.322                          2.975  Algeria\n",
       "1  1787-02-01              14.839                          2.307  Algeria\n",
       "2  1787-03-01              18.841                          2.922  Algeria\n",
       "3  1787-04-01              22.061                          2.283  Algeria\n",
       "4  1787-05-01              27.104                          3.774  Algeria"
      ]
     },
     "execution_count": 20,
     "metadata": {},
     "output_type": "execute_result"
    }
   ],
   "source": [
    "import pandas as pd\n",
    "data = pd.read_csv(\"GlobalLandTemperaturesByCountry.csv\")\n",
    "dictionary = {}\n",
    "\n",
    "newlist=[]\n",
    "x = len(data.index)\n",
    "\n",
    "for x in range(0, x):\n",
    "    if data[\"Country\"][x] == \"United States\":\n",
    "        newlist.append(data.loc[x])\n",
    "    if data[\"Country\"][x] == \"China\":\n",
    "        newlist.append(data.loc[x])\n",
    "    if data[\"Country\"][x] == \"Australia\":\n",
    "        newlist.append(data.loc[x])\n",
    "    if data[\"Country\"][x] == \"Brazil\":\n",
    "        newlist.append(data.loc[x])\n",
    "    if data[\"Country\"][x] == \"United Kingdom (Europe)\":\n",
    "        newlist.append(data.loc[x])\n",
    "    if data[\"Country\"][x] == \"South Africa\":\n",
    "        newlist.append(data.loc[x])\n",
    "    if data[\"Country\"][x] == \"Costa Rica\":\n",
    "        newlist.append(data.loc[x])\n",
    "    if data[\"Country\"][x] == \"Egypt\":\n",
    "        newlist.append(data.loc[x])\n",
    "    if data[\"Country\"][x] == \"Algeria\":\n",
    "        newlist.append(data.loc[x])\n",
    "    if data[\"Country\"][x] == \"Iceland\":\n",
    "        newlist.append(data.loc[x])\n",
    "    if data[\"Country\"][x] == \"Ukraine\":\n",
    "        newlist.append(data.loc[x])\n",
    "    if data[\"Country\"][x] == \"Argentina\":\n",
    "        newlist.append(data.loc[x])\n",
    "    if data[\"Country\"][x] == \"Namibia\":\n",
    "        newlist.append(data.loc[x])\n",
    "    if data[\"Country\"][x] == \"Finland\":\n",
    "        newlist.append(data.loc[x])\n",
    "    if data[\"Country\"][x] == \"Germany\":\n",
    "        newlist.append(data.loc[x])\n",
    "    if data[\"Country\"][x] == \"Japan\":\n",
    "        newlist.append(data.loc[x])\n",
    "continents = pd.DataFrame(newlist)\n",
    "continents.reset_index(drop=True, inplace=True)\n",
    "\n",
    "continents.head()"
   ]
  },
  {
   "cell_type": "code",
   "execution_count": 21,
   "metadata": {},
   "outputs": [
    {
     "name": "stdout",
     "output_type": "stream",
     "text": [
      "['Algeria', 'Argentina', 'Australia', 'Brazil', 'China', 'Costa Rica', 'Egypt', 'Finland', 'Germany', 'Iceland', 'Japan', 'Namibia', 'South Africa', 'Ukraine', 'United Kingdom (Europe)', 'United States'] [22.79742424242425, 14.135378787878786, 21.349272727272727, 24.341030303030294, 6.216803030303033, 25.182227272727275, 22.38356818181819, 0.4936969696969694, 7.96719696969697, 1.005280303030303, 11.504136363636363, 20.085454545454553, 16.89050000000001, 7.176303030303031, 8.631537878787887, 8.462340909090909]\n"
     ]
    }
   ],
   "source": [
    "year = 1861\n",
    "country_list = []\n",
    "temp_list = []\n",
    "the_sum = 0\n",
    "\n",
    "# Past: 1861-1871\n",
    "for y in range(0, len(continents)):\n",
    "    if (int(continents[\"dt\"][y][0:4]) == year) and year<=1871:\n",
    "        if year == 1871:\n",
    "            for x in range(0,12):\n",
    "                the_sum += float(continents[\"AverageTemperature\"][x+y])\n",
    "            # 132 values went into the sum- 11 years, 12 months per year\n",
    "            ten_yr_avg = the_sum / 132\n",
    "            country_list.append(continents[\"Country\"][y])\n",
    "            temp_list.append(ten_yr_avg)\n",
    "            the_sum=0\n",
    "            year = 1861\n",
    "        else:\n",
    "            for x in range(0,12):\n",
    "                the_sum += float(continents[\"AverageTemperature\"][x+y])\n",
    "            year+=1\n",
    "print(country_list,temp_list)"
   ]
  },
  {
   "cell_type": "code",
   "execution_count": 22,
   "metadata": {},
   "outputs": [
    {
     "name": "stdout",
     "output_type": "stream",
     "text": [
      "24.411147286821706-22.79742424242425\n",
      "1.6137230443974566\n",
      "15.231821705426361-14.135378787878786\n",
      "1.0964429175475754\n",
      "22.162596899224813-21.349272727272727\n",
      "0.8133241719520861\n",
      "25.603736434108523-24.341030303030294\n",
      "1.2627061310782288\n",
      "7.864488372093024-6.216803030303033\n",
      "1.647685341789991\n",
      "26.375124031007754-25.182227272727275\n",
      "1.1928967582804795\n",
      "23.925263565891466-22.38356818181819\n",
      "1.5416953840732752\n",
      "2.8189069767441852-0.4936969696969694\n",
      "2.325210007047216\n",
      "9.486643410852714-7.96719696969697\n",
      "1.5194464411557442\n",
      "2.6886666666666654-1.005280303030303\n",
      "1.6833863636363624\n",
      "13.053697674418604-11.504136363636363\n",
      "1.5495613107822415\n",
      "21.00731007751938-20.085454545454553\n",
      "0.9218555320648285\n",
      "17.849240310077526-16.89050000000001\n",
      "0.9587403100775163\n",
      "9.354751937984497-7.176303030303031\n",
      "2.1784489076814664\n",
      "9.725372093023259-8.631537878787887\n",
      "1.0938342142353719\n",
      "9.93581395348837-8.462340909090909\n",
      "1.473473044397462\n",
      "['Algeria', 'Argentina', 'Australia', 'Brazil', 'China', 'Costa Rica', 'Egypt', 'Finland', 'Germany', 'Iceland', 'Japan', 'Namibia', 'South Africa', 'Ukraine', 'United Kingdom (Europe)', 'United States'] [1.6137230443974566, 1.0964429175475754, 0.8133241719520861, 1.2627061310782288, 1.647685341789991, 1.1928967582804795, 1.5416953840732752, 2.325210007047216, 1.5194464411557442, 1.6833863636363624, 1.5495613107822415, 0.9218555320648285, 0.9587403100775163, 2.1784489076814664, 1.0938342142353719, 1.473473044397462]\n"
     ]
    }
   ],
   "source": [
    "# Present: 2003-2013\n",
    "year = 2003\n",
    "the_sum = 0\n",
    "index = 0\n",
    "\n",
    "for y in range(0, len(continents)):\n",
    "    if (int(continents[\"dt\"][y][0:4]) == year) and year<2013:\n",
    "        for x in range(0,12):\n",
    "                the_sum += float(continents[\"AverageTemperature\"][x+y])\n",
    "        year+=1\n",
    "    elif year == 2013:\n",
    "            for x in range(0,9):\n",
    "                the_sum += float(continents[\"AverageTemperature\"][x+y])\n",
    "            # 132 values went into the sum- 11 years, 12 months per year (with the exception of 2013, with 8 months)\n",
    "            ten_yr_avg = the_sum / 129\n",
    "            print(str(ten_yr_avg) + '-' + str(temp_list[index]))\n",
    "            # Difference between past average and present average\n",
    "            temp_list[index] = ten_yr_avg - temp_list[index]\n",
    "            print(temp_list[index])\n",
    "            the_sum=0\n",
    "            index+=1\n",
    "            year = 2003\n",
    "            \n",
    "print(country_list,temp_list)"
   ]
  },
  {
   "cell_type": "code",
   "execution_count": 23,
   "metadata": {},
   "outputs": [
    {
     "name": "stdout",
     "output_type": "stream",
     "text": [
      "{'Country': ['Algeria', 'Argentina', 'Australia', 'Brazil', 'China', 'Costa Rica', 'Egypt', 'Finland', 'Germany', 'Iceland', 'Japan', 'Namibia', 'South Africa', 'Ukraine', 'United Kingdom (Europe)', 'United States'], 'Temperature_Change': [1.6137230443974566, 1.0964429175475754, 0.8133241719520861, 1.2627061310782288, 1.647685341789991, 1.1928967582804795, 1.5416953840732752, 2.325210007047216, 1.5194464411557442, 1.6833863636363624, 1.5495613107822415, 0.9218555320648285, 0.9587403100775163, 2.1784489076814664, 1.0938342142353719, 1.473473044397462]}\n"
     ]
    }
   ],
   "source": [
    "dictionary['Country'] = country_list\n",
    "dictionary['Temperature_Change'] = temp_list\n",
    "print(dictionary)\n",
    "final = pd.DataFrame.from_dict(dictionary)"
   ]
  },
  {
   "cell_type": "code",
   "execution_count": 24,
   "metadata": {
    "collapsed": true
   },
   "outputs": [],
   "source": [
    "final = final.sort_values(by=['Temperature_Change'])"
   ]
  },
  {
   "cell_type": "code",
   "execution_count": 25,
   "metadata": {
    "collapsed": true
   },
   "outputs": [],
   "source": [
    "final.to_csv('continents.csv', header='true')"
   ]
  }
 ],
 "metadata": {
  "kernelspec": {
   "display_name": "Python 3",
   "language": "python",
   "name": "python3"
  },
  "language_info": {
   "codemirror_mode": {
    "name": "ipython",
    "version": 3
   },
   "file_extension": ".py",
   "mimetype": "text/x-python",
   "name": "python",
   "nbconvert_exporter": "python",
   "pygments_lexer": "ipython3",
   "version": "3.6.1"
  }
 },
 "nbformat": 4,
 "nbformat_minor": 2
}
